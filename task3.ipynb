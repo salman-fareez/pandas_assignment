{
 "cells": [
  {
   "cell_type": "code",
   "execution_count": 1,
   "id": "0755b8e6-edf8-4930-a97b-fdf817751a35",
   "metadata": {},
   "outputs": [],
   "source": [
    "import pandas as pd"
   ]
  },
  {
   "cell_type": "code",
   "execution_count": 25,
   "id": "65484341-d53a-4882-a23c-4ebedf3a61f8",
   "metadata": {},
   "outputs": [],
   "source": [
    "curren={'1 USD':'82.50 INR','1 EUR':'88.25 INR','1 JPY':'105.75 INR','1 AUD':'54.60 INR','1 CAD':'60.75 INR','1 CHF':'91.10 INR','1 CNY':'11.85 INR','1 NZD':'49.25 INR','1 SEK':'7.50 INR','1 GBP':'105.75 INR'}"
   ]
  },
  {
   "cell_type": "code",
   "execution_count": 27,
   "id": "bba39b4c-35fb-4c3c-9146-5b9a591f047e",
   "metadata": {},
   "outputs": [
    {
     "data": {
      "text/plain": [
       "{'1 USD': '82.50 INR',\n",
       " '1 EUR': '88.25 INR',\n",
       " '1 JPY': '105.75 INR',\n",
       " '1 AUD': '54.60 INR',\n",
       " '1 CAD': '60.75 INR',\n",
       " '1 CHF': '91.10 INR',\n",
       " '1 CNY': '11.85 INR',\n",
       " '1 NZD': '49.25 INR',\n",
       " '1 SEK': '7.50 INR',\n",
       " '1 GBP': '105.75\\xa0INR'}"
      ]
     },
     "execution_count": 27,
     "metadata": {},
     "output_type": "execute_result"
    }
   ],
   "source": [
    "currency"
   ]
  },
  {
   "cell_type": "code",
   "execution_count": null,
   "id": "2bd336a2-12e4-4a14-a7a5-b41683683649",
   "metadata": {},
   "outputs": [],
   "source": [
    "football={'players':['messi','casemiro','ronaldo','gavi'],'team':['argentina','brazil','portugal','spain'],'jersey_number':[10,5,7,9]}"
   ]
  },
  {
   "cell_type": "code",
   "execution_count": null,
   "id": "9ddf76e5-fea1-4417-bf92-c2716dde250d",
   "metadata": {},
   "outputs": [],
   "source": [
    "football"
   ]
  },
  {
   "cell_type": "code",
   "execution_count": null,
   "id": "96077984-5a03-4b20-ad66-ee7e9ccbc696",
   "metadata": {},
   "outputs": [],
   "source": [
    "fb=pd.DataFrame(football)"
   ]
  },
  {
   "cell_type": "code",
   "execution_count": null,
   "id": "8f990268-64f3-4dd6-a484-ff764ae82325",
   "metadata": {},
   "outputs": [],
   "source": [
    "fb"
   ]
  },
  {
   "cell_type": "code",
   "execution_count": null,
   "id": "fb0eb613-95f0-4524-b992-51903862b86d",
   "metadata": {},
   "outputs": [],
   "source": [
    "fb.iloc[0]"
   ]
  },
  {
   "cell_type": "code",
   "execution_count": null,
   "id": "2c2b6460-7bdb-4a4b-b105-97afe5ca7bc5",
   "metadata": {},
   "outputs": [],
   "source": [
    "fb.iloc[2]"
   ]
  },
  {
   "cell_type": "code",
   "execution_count": null,
   "id": "df17e082-aaaf-489c-a1ad-9405469bb3d0",
   "metadata": {},
   "outputs": [],
   "source": [
    "fb.iloc[1:2]"
   ]
  },
  {
   "cell_type": "code",
   "execution_count": null,
   "id": "0118a317-adce-4fb2-8008-ff5c9782a41e",
   "metadata": {},
   "outputs": [],
   "source": [
    "fb.iloc[3]"
   ]
  },
  {
   "cell_type": "code",
   "execution_count": null,
   "id": "f0b861e6-abd8-4c9f-8c7d-afeacdcccc76",
   "metadata": {},
   "outputs": [],
   "source": [
    "fb.iloc[1:]"
   ]
  },
  {
   "cell_type": "code",
   "execution_count": null,
   "id": "dc595567-2e57-4b3e-a03c-c060218e5223",
   "metadata": {},
   "outputs": [],
   "source": [
    "fb.iloc[3:4]"
   ]
  },
  {
   "cell_type": "code",
   "execution_count": null,
   "id": "98a278dd-e2e4-4b5c-b94f-3015aada69ec",
   "metadata": {},
   "outputs": [],
   "source": [
    "fb.iloc[1:4:2]"
   ]
  },
  {
   "cell_type": "code",
   "execution_count": null,
   "id": "6f541ef0-7c80-4b11-afca-97828aa8121b",
   "metadata": {},
   "outputs": [],
   "source": [
    "gdp={'India':'$3.937 trillion','United States':\"$28.78 trillion\",\"China\":\"$18.53 trillion\",\"Germany\":\"$4.59 trillion\",\"Japan\":\"$4.11 trillion\",\"United Kingdom\":\"$3.5 trillion\",\"France\":\"$3.13 trillion\",\"Brazil\":\"$2.33trillion\",\"Italy\":\"$2.32trillion\",\"Canada\":\"$2.24trillion\"}"
   ]
  },
  {
   "cell_type": "code",
   "execution_count": null,
   "id": "a098b643-8b9f-444a-8c55-8feaaf6aafe4",
   "metadata": {},
   "outputs": [],
   "source": [
    "gdp"
   ]
  },
  {
   "cell_type": "code",
   "execution_count": null,
   "id": "594026fe-1e9e-4515-b968-1cbe1484dcd0",
   "metadata": {},
   "outputs": [],
   "source": [
    "c=pd.DataFrame(gdp,index=['GDP'])"
   ]
  },
  {
   "cell_type": "code",
   "execution_count": null,
   "id": "621ab6ac-9d5f-4b62-a82e-df8f4d54fa4e",
   "metadata": {},
   "outputs": [],
   "source": [
    "c"
   ]
  },
  {
   "cell_type": "code",
   "execution_count": null,
   "id": "470d22f3-09b3-4f56-99a6-d4b9f982c472",
   "metadata": {},
   "outputs": [],
   "source": []
  }
 ],
 "metadata": {
  "kernelspec": {
   "display_name": "Python 3 (ipykernel)",
   "language": "python",
   "name": "python3"
  },
  "language_info": {
   "codemirror_mode": {
    "name": "ipython",
    "version": 3
   },
   "file_extension": ".py",
   "mimetype": "text/x-python",
   "name": "python",
   "nbconvert_exporter": "python",
   "pygments_lexer": "ipython3",
   "version": "3.12.4"
  }
 },
 "nbformat": 4,
 "nbformat_minor": 5
}
